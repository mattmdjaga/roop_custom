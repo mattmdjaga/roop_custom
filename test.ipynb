{
 "cells": [
  {
   "cell_type": "code",
   "execution_count": null,
   "metadata": {},
   "outputs": [],
   "source": [
    "import roop.globals\n",
    "import roop.ui as ui\n",
    "import shutil\n",
    "from roop.processors.frame.core import get_frame_processors_modules\n",
    "from roop.utilities import normalize_output_path\n",
    "from utils import *"
   ]
  },
  {
   "cell_type": "code",
   "execution_count": null,
   "metadata": {},
   "outputs": [],
   "source": [
    "upsampler, codeformer_net, device = get_codeformer_models()"
   ]
  },
  {
   "cell_type": "code",
   "execution_count": null,
   "metadata": {},
   "outputs": [],
   "source": [
    "def encode_image(image: Image, img_format: int = \"JPEG\") -> str:\n",
    "    \"\"\"\n",
    "    Encodes image to base64 string.\n",
    "    Args:\n",
    "        image: PIL image\n",
    "        img_format: image format\n",
    "    Returns:\n",
    "        base64 string\n",
    "    \"\"\"\n",
    "    img_byte_arr = io.BytesIO()\n",
    "    image.save(img_byte_arr, format=img_format)\n",
    "    img_byte_arr = img_byte_arr.getvalue()\n",
    "    img_byte_arr = base64.b64encode(img_byte_arr).decode(\"utf-8\")\n",
    "    return img_byte_arr\n",
    "\n",
    "\n",
    "def decode_image(image: str) -> Image:\n",
    "    \"\"\"\n",
    "    Decodes base64 string to PIL image.\n",
    "    Args:\n",
    "        image: base64 string\n",
    "    Returns:\n",
    "        PIL image\n",
    "    \"\"\"\n",
    "    img_byte_arr = base64.b64decode(image)\n",
    "    img_byte_arr = io.BytesIO(img_byte_arr)\n",
    "    img_byte_arr = Image.open(img_byte_arr)\n",
    "    return img_byte_arr\n",
    "\n",
    "\n",
    "def image_grid(imgs: List[Any], rows: int = 2, cols: int = 2):\n",
    "    \"\"\"\n",
    "    Creates a grid of images.\n",
    "    Args:\n",
    "        imgs: list of PIL images\n",
    "        rows: number of rows\n",
    "        cols: number of columns\n",
    "    Returns:\n",
    "        PIL image\n",
    "    \"\"\"\n",
    "    w, h = imgs[0].size\n",
    "    grid = Image.new(\"RGB\", size=(cols * w, rows * h))\n",
    "\n",
    "    for i, img in enumerate(imgs):\n",
    "        grid.paste(img, box=(i % cols * w, i // cols * h))\n",
    "    return grid"
   ]
  },
  {
   "cell_type": "code",
   "execution_count": null,
   "metadata": {},
   "outputs": [],
   "source": [
    "input_folder = \"/home/azureuser/matt_code/roop_pons/inputs\"\n",
    "bases_folder = \"/home/azureuser/matt_code/roop_pons/bases\"\n",
    "input_imgs = [f\"{input_folder}/{img}\" for img in os.listdir(input_folder)]\n",
    "base_imgs = [f\"{bases_folder}/{img}\" for img in os.listdir(bases_folder)]\n",
    "input_imgs.sort()\n",
    "base_imgs.sort()"
   ]
  },
  {
   "cell_type": "code",
   "execution_count": null,
   "metadata": {},
   "outputs": [],
   "source": [
    "from roop.utilities import normalize_output_path\n",
    "\n",
    "roop.globals.many_faces = False\n",
    "roop.globals.reference_face_position = 0\n",
    "roop.globals.reference_frame_number = 0\n",
    "roop.globals.similar_face_distance = 0.85\n",
    "roop.globals.execution_providers = decode_execution_providers([\"cpu\"])\n",
    "roop.globals.execution_threads = suggest_execution_threads()\n",
    "roop.globals.headless = True"
   ]
  },
  {
   "cell_type": "code",
   "execution_count": null,
   "metadata": {},
   "outputs": [],
   "source": [
    "frame_processors = [\"face_swapper\"]\n",
    "for frame_processor in get_frame_processors_modules(frame_processors):\n",
    "    frame_processor.pre_check()"
   ]
  },
  {
   "cell_type": "code",
   "execution_count": null,
   "metadata": {},
   "outputs": [],
   "source": [
    "import cv2\n",
    "import concurrent.futures\n",
    "\n",
    "imgs = []\n",
    "args_roop = []\n",
    "for i in range(4):\n",
    "    in_img = Image.open(input_imgs[i])\n",
    "    base_img = Image.open(base_imgs[i])\n",
    "    arg_roop = (in_img, base_img)\n",
    "    args_roop.append(arg_roop)\n",
    "\n",
    "frame_processors = [\"face_swapper\"]\n",
    "# shutil.copy2(base_img, roop.globals.output_path)\n",
    "for frame_processor in get_frame_processors_modules(frame_processors):\n",
    "    with concurrent.futures.ThreadPoolExecutor(max_workers=4) as executor:\n",
    "        results = list(executor.map(frame_processor.process_image, args_roop))\n",
    "\n",
    "imgs = [cv2.cvtColor(img, cv2.COLOR_BGR2RGB) for img in results]\n",
    "\n",
    "args_codeformer = [\n",
    "    (img, True, False, False, 0, 1.0, upsampler, codeformer_net, device) for img in imgs\n",
    "]\n",
    "with concurrent.futures.ThreadPoolExecutor(max_workers=4) as executor:\n",
    "    results = list(executor.map(inference_codeformer, args_codeformer))\n",
    "imgs = [Image.fromarray(img) for img in results]\n",
    "grid = image_grid(imgs, cols=len(imgs) // 2, rows=2)\n",
    "plt.figure(figsize=(70, 10))\n",
    "plt.imshow(grid)\n",
    "plt.show()"
   ]
  },
  {
   "cell_type": "code",
   "execution_count": null,
   "metadata": {},
   "outputs": [],
   "source": []
  }
 ],
 "metadata": {
  "kernelspec": {
   "display_name": "gpu",
   "language": "python",
   "name": "python3"
  },
  "language_info": {
   "codemirror_mode": {
    "name": "ipython",
    "version": 3
   },
   "file_extension": ".py",
   "mimetype": "text/x-python",
   "name": "python",
   "nbconvert_exporter": "python",
   "pygments_lexer": "ipython3",
   "version": "3.10.13"
  }
 },
 "nbformat": 4,
 "nbformat_minor": 2
}
